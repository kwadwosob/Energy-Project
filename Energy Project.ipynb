{
 "cells": [
  {
   "cell_type": "markdown",
   "metadata": {},
   "source": [
    "# Energy Project Based Work"
   ]
  },
  {
   "cell_type": "markdown",
   "metadata": {},
   "source": [
    "This project is to determine data analytic and coding abilities. \n",
    "It is an open ended project that should take 2-3 days of intense coding to finish"
   ]
  },
  {
   "cell_type": "code",
   "execution_count": 3,
   "metadata": {},
   "outputs": [],
   "source": [
    "import pandas as pd\n",
    "import numpy as np\n",
    "import matplotlib.pyplot as plt\n",
    "%matplotlib inline\n",
    "import seaborn as sns"
   ]
  },
  {
   "cell_type": "markdown",
   "metadata": {},
   "source": [
    "# TASK 1"
   ]
  },
  {
   "cell_type": "markdown",
   "metadata": {},
   "source": [
    "We will read in all files and combine them to one dataFrame "
   ]
  },
  {
   "cell_type": "code",
   "execution_count": 4,
   "metadata": {
    "scrolled": true
   },
   "outputs": [
    {
     "data": {
      "text/html": [
       "<div>\n",
       "<style scoped>\n",
       "    .dataframe tbody tr th:only-of-type {\n",
       "        vertical-align: middle;\n",
       "    }\n",
       "\n",
       "    .dataframe tbody tr th {\n",
       "        vertical-align: top;\n",
       "    }\n",
       "\n",
       "    .dataframe thead th {\n",
       "        text-align: right;\n",
       "    }\n",
       "</style>\n",
       "<table border=\"1\" class=\"dataframe\">\n",
       "  <thead>\n",
       "    <tr style=\"text-align: right;\">\n",
       "      <th></th>\n",
       "      <th>Date</th>\n",
       "      <th>SettlementPoint</th>\n",
       "      <th>Price</th>\n",
       "    </tr>\n",
       "  </thead>\n",
       "  <tbody>\n",
       "    <tr>\n",
       "      <th>129101</th>\n",
       "      <td>2019-12-31 23:00:00</td>\n",
       "      <td>LZ_LCRA</td>\n",
       "      <td>14.53</td>\n",
       "    </tr>\n",
       "    <tr>\n",
       "      <th>129102</th>\n",
       "      <td>2019-12-31 23:00:00</td>\n",
       "      <td>LZ_NORTH</td>\n",
       "      <td>14.48</td>\n",
       "    </tr>\n",
       "    <tr>\n",
       "      <th>129103</th>\n",
       "      <td>2019-12-31 23:00:00</td>\n",
       "      <td>LZ_RAYBN</td>\n",
       "      <td>14.48</td>\n",
       "    </tr>\n",
       "    <tr>\n",
       "      <th>129104</th>\n",
       "      <td>2019-12-31 23:00:00</td>\n",
       "      <td>LZ_SOUTH</td>\n",
       "      <td>14.70</td>\n",
       "    </tr>\n",
       "    <tr>\n",
       "      <th>129105</th>\n",
       "      <td>2019-12-31 23:00:00</td>\n",
       "      <td>LZ_WEST</td>\n",
       "      <td>16.78</td>\n",
       "    </tr>\n",
       "  </tbody>\n",
       "</table>\n",
       "</div>"
      ],
      "text/plain": [
       "                       Date SettlementPoint  Price\n",
       "129101  2019-12-31 23:00:00         LZ_LCRA  14.53\n",
       "129102  2019-12-31 23:00:00        LZ_NORTH  14.48\n",
       "129103  2019-12-31 23:00:00        LZ_RAYBN  14.48\n",
       "129104  2019-12-31 23:00:00        LZ_SOUTH  14.70\n",
       "129105  2019-12-31 23:00:00         LZ_WEST  16.78"
      ]
     },
     "execution_count": 4,
     "metadata": {},
     "output_type": "execute_result"
    }
   ],
   "source": [
    "ERCOT_2016=pd.read_csv('C:\\\\Users\\\\mpmkwsa\\\\Desktop\\\\energy-analyst-data-exercise-public-master\\\\historicalPriceData\\\\ERCOT_DA_Prices_2016.csv')\n",
    "ERCOT_2017=pd.read_csv('C:\\\\Users\\\\mpmkwsa\\\\Desktop\\\\energy-analyst-data-exercise-public-master\\\\historicalPriceData\\\\ERCOT_DA_Prices_2017.csv')\n",
    "ERCOT_2018=pd.read_csv('C:\\\\Users\\\\mpmkwsa\\\\Desktop\\\\energy-analyst-data-exercise-public-master\\\\historicalPriceData\\\\ERCOT_DA_Prices_2018.csv')\n",
    "ERCOT_2019=pd.read_csv('C:\\\\Users\\\\mpmkwsa\\\\Desktop\\\\energy-analyst-data-exercise-public-master\\\\historicalPriceData\\\\ERCOT_DA_Prices_2019.csv')\n",
    "ERCO=pd.concat([ERCOT_2016,ERCOT_2017,ERCOT_2018,ERCOT_2019])\n",
    "ERCO.to_csv('ERCO.csv', index=False)\n",
    "ERCO.tail()"
   ]
  },
  {
   "cell_type": "markdown",
   "metadata": {},
   "source": [
    "# TASK 2"
   ]
  },
  {
   "cell_type": "markdown",
   "metadata": {},
   "source": [
    "In this step I will compute the average price for each settlemet point and near year-month in the historical dataset"
   ]
  },
  {
   "cell_type": "markdown",
   "metadata": {},
   "source": [
    "Used 3 different lines of code to calculate the average price for each settlement point."
   ]
  },
  {
   "cell_type": "code",
   "execution_count": 8,
   "metadata": {},
   "outputs": [
    {
     "data": {
      "text/plain": [
       "array(['HB_BUSAVG', 'HB_HOUSTON', 'HB_HUBAVG', 'HB_NORTH', 'HB_SOUTH',\n",
       "       'HB_WEST', 'LZ_AEN', 'LZ_CPS', 'LZ_HOUSTON', 'LZ_LCRA', 'LZ_NORTH',\n",
       "       'LZ_RAYBN', 'LZ_SOUTH', 'LZ_WEST', 'HB_PAN'], dtype=object)"
      ]
     },
     "execution_count": 8,
     "metadata": {},
     "output_type": "execute_result"
    }
   ],
   "source": [
    "#First the settlement points are individually grouped to make sure they are distinct\n",
    "ERCOT_AVERAGE = ERCO['SettlementPoint'].unique()\n",
    "ERCOT_AVERAGE"
   ]
  },
  {
   "cell_type": "code",
   "execution_count": 9,
   "metadata": {},
   "outputs": [
    {
     "data": {
      "text/html": [
       "<div>\n",
       "<style scoped>\n",
       "    .dataframe tbody tr th:only-of-type {\n",
       "        vertical-align: middle;\n",
       "    }\n",
       "\n",
       "    .dataframe tbody tr th {\n",
       "        vertical-align: top;\n",
       "    }\n",
       "\n",
       "    .dataframe thead th {\n",
       "        text-align: right;\n",
       "    }\n",
       "</style>\n",
       "<table border=\"1\" class=\"dataframe\">\n",
       "  <thead>\n",
       "    <tr style=\"text-align: right;\">\n",
       "      <th></th>\n",
       "      <th>SettlementPoint</th>\n",
       "      <th>Price</th>\n",
       "    </tr>\n",
       "  </thead>\n",
       "  <tbody>\n",
       "    <tr>\n",
       "      <th>0</th>\n",
       "      <td>HB_BUSAVG</td>\n",
       "      <td>29.420988</td>\n",
       "    </tr>\n",
       "    <tr>\n",
       "      <th>1</th>\n",
       "      <td>HB_HOUSTON</td>\n",
       "      <td>31.096580</td>\n",
       "    </tr>\n",
       "    <tr>\n",
       "      <th>2</th>\n",
       "      <td>HB_HUBAVG</td>\n",
       "      <td>29.512695</td>\n",
       "    </tr>\n",
       "    <tr>\n",
       "      <th>3</th>\n",
       "      <td>HB_NORTH</td>\n",
       "      <td>29.109678</td>\n",
       "    </tr>\n",
       "    <tr>\n",
       "      <th>4</th>\n",
       "      <td>HB_PAN</td>\n",
       "      <td>35.882074</td>\n",
       "    </tr>\n",
       "    <tr>\n",
       "      <th>5</th>\n",
       "      <td>HB_SOUTH</td>\n",
       "      <td>29.897728</td>\n",
       "    </tr>\n",
       "    <tr>\n",
       "      <th>6</th>\n",
       "      <td>HB_WEST</td>\n",
       "      <td>27.947969</td>\n",
       "    </tr>\n",
       "    <tr>\n",
       "      <th>7</th>\n",
       "      <td>LZ_AEN</td>\n",
       "      <td>29.624877</td>\n",
       "    </tr>\n",
       "    <tr>\n",
       "      <th>8</th>\n",
       "      <td>LZ_CPS</td>\n",
       "      <td>30.844485</td>\n",
       "    </tr>\n",
       "    <tr>\n",
       "      <th>9</th>\n",
       "      <td>LZ_HOUSTON</td>\n",
       "      <td>31.530224</td>\n",
       "    </tr>\n",
       "    <tr>\n",
       "      <th>10</th>\n",
       "      <td>LZ_LCRA</td>\n",
       "      <td>29.810659</td>\n",
       "    </tr>\n",
       "    <tr>\n",
       "      <th>11</th>\n",
       "      <td>LZ_NORTH</td>\n",
       "      <td>29.622212</td>\n",
       "    </tr>\n",
       "    <tr>\n",
       "      <th>12</th>\n",
       "      <td>LZ_RAYBN</td>\n",
       "      <td>29.996078</td>\n",
       "    </tr>\n",
       "    <tr>\n",
       "      <th>13</th>\n",
       "      <td>LZ_SOUTH</td>\n",
       "      <td>32.540299</td>\n",
       "    </tr>\n",
       "    <tr>\n",
       "      <th>14</th>\n",
       "      <td>LZ_WEST</td>\n",
       "      <td>32.648744</td>\n",
       "    </tr>\n",
       "  </tbody>\n",
       "</table>\n",
       "</div>"
      ],
      "text/plain": [
       "   SettlementPoint      Price\n",
       "0        HB_BUSAVG  29.420988\n",
       "1       HB_HOUSTON  31.096580\n",
       "2        HB_HUBAVG  29.512695\n",
       "3         HB_NORTH  29.109678\n",
       "4           HB_PAN  35.882074\n",
       "5         HB_SOUTH  29.897728\n",
       "6          HB_WEST  27.947969\n",
       "7           LZ_AEN  29.624877\n",
       "8           LZ_CPS  30.844485\n",
       "9       LZ_HOUSTON  31.530224\n",
       "10         LZ_LCRA  29.810659\n",
       "11        LZ_NORTH  29.622212\n",
       "12        LZ_RAYBN  29.996078\n",
       "13        LZ_SOUTH  32.540299\n",
       "14         LZ_WEST  32.648744"
      ]
     },
     "execution_count": 9,
     "metadata": {},
     "output_type": "execute_result"
    }
   ],
   "source": [
    "\n",
    "average_price = ERCO.groupby('SettlementPoint')['Price'].mean().reset_index()\n",
    "average_price.to_csv('SettlementPointmean.csv')\n",
    "pd.DataFrame(average_price)"
   ]
  },
  {
   "cell_type": "code",
   "execution_count": 10,
   "metadata": {},
   "outputs": [],
   "source": [
    "average_priced = ERCO.groupby('SettlementPoint')['Price'].agg([np.sum, np.mean, np.std]).reset_index()"
   ]
  },
  {
   "cell_type": "code",
   "execution_count": 13,
   "metadata": {},
   "outputs": [
    {
     "data": {
      "text/html": [
       "<div>\n",
       "<style scoped>\n",
       "    .dataframe tbody tr th:only-of-type {\n",
       "        vertical-align: middle;\n",
       "    }\n",
       "\n",
       "    .dataframe tbody tr th {\n",
       "        vertical-align: top;\n",
       "    }\n",
       "\n",
       "    .dataframe thead th {\n",
       "        text-align: right;\n",
       "    }\n",
       "</style>\n",
       "<table border=\"1\" class=\"dataframe\">\n",
       "  <thead>\n",
       "    <tr style=\"text-align: right;\">\n",
       "      <th></th>\n",
       "      <th>SettlementPoint</th>\n",
       "      <th>sum</th>\n",
       "      <th>mean</th>\n",
       "      <th>std</th>\n",
       "    </tr>\n",
       "  </thead>\n",
       "  <tbody>\n",
       "    <tr>\n",
       "      <th>0</th>\n",
       "      <td>HB_BUSAVG</td>\n",
       "      <td>1031499.84</td>\n",
       "      <td>29.420988</td>\n",
       "      <td>90.945900</td>\n",
       "    </tr>\n",
       "    <tr>\n",
       "      <th>1</th>\n",
       "      <td>HB_HOUSTON</td>\n",
       "      <td>1090246.10</td>\n",
       "      <td>31.096580</td>\n",
       "      <td>91.178486</td>\n",
       "    </tr>\n",
       "    <tr>\n",
       "      <th>2</th>\n",
       "      <td>HB_HUBAVG</td>\n",
       "      <td>1034715.09</td>\n",
       "      <td>29.512695</td>\n",
       "      <td>90.954232</td>\n",
       "    </tr>\n",
       "    <tr>\n",
       "      <th>3</th>\n",
       "      <td>HB_NORTH</td>\n",
       "      <td>1020585.30</td>\n",
       "      <td>29.109678</td>\n",
       "      <td>91.006554</td>\n",
       "    </tr>\n",
       "    <tr>\n",
       "      <th>4</th>\n",
       "      <td>HB_PAN</td>\n",
       "      <td>232515.84</td>\n",
       "      <td>35.882074</td>\n",
       "      <td>191.254209</td>\n",
       "    </tr>\n",
       "    <tr>\n",
       "      <th>5</th>\n",
       "      <td>HB_SOUTH</td>\n",
       "      <td>1048214.34</td>\n",
       "      <td>29.897728</td>\n",
       "      <td>90.732483</td>\n",
       "    </tr>\n",
       "    <tr>\n",
       "      <th>6</th>\n",
       "      <td>HB_WEST</td>\n",
       "      <td>979855.81</td>\n",
       "      <td>27.947969</td>\n",
       "      <td>91.089477</td>\n",
       "    </tr>\n",
       "    <tr>\n",
       "      <th>7</th>\n",
       "      <td>LZ_AEN</td>\n",
       "      <td>1038648.20</td>\n",
       "      <td>29.624877</td>\n",
       "      <td>90.947911</td>\n",
       "    </tr>\n",
       "    <tr>\n",
       "      <th>8</th>\n",
       "      <td>LZ_CPS</td>\n",
       "      <td>1081407.65</td>\n",
       "      <td>30.844485</td>\n",
       "      <td>91.155379</td>\n",
       "    </tr>\n",
       "    <tr>\n",
       "      <th>9</th>\n",
       "      <td>LZ_HOUSTON</td>\n",
       "      <td>1105449.67</td>\n",
       "      <td>31.530224</td>\n",
       "      <td>91.354908</td>\n",
       "    </tr>\n",
       "    <tr>\n",
       "      <th>10</th>\n",
       "      <td>LZ_LCRA</td>\n",
       "      <td>1045161.69</td>\n",
       "      <td>29.810659</td>\n",
       "      <td>91.143627</td>\n",
       "    </tr>\n",
       "    <tr>\n",
       "      <th>11</th>\n",
       "      <td>LZ_NORTH</td>\n",
       "      <td>1038554.76</td>\n",
       "      <td>29.622212</td>\n",
       "      <td>91.227942</td>\n",
       "    </tr>\n",
       "    <tr>\n",
       "      <th>12</th>\n",
       "      <td>LZ_RAYBN</td>\n",
       "      <td>1051662.51</td>\n",
       "      <td>29.996078</td>\n",
       "      <td>92.235500</td>\n",
       "    </tr>\n",
       "    <tr>\n",
       "      <th>13</th>\n",
       "      <td>LZ_SOUTH</td>\n",
       "      <td>1140862.89</td>\n",
       "      <td>32.540299</td>\n",
       "      <td>91.299008</td>\n",
       "    </tr>\n",
       "    <tr>\n",
       "      <th>14</th>\n",
       "      <td>LZ_WEST</td>\n",
       "      <td>1144664.97</td>\n",
       "      <td>32.648744</td>\n",
       "      <td>92.452851</td>\n",
       "    </tr>\n",
       "  </tbody>\n",
       "</table>\n",
       "</div>"
      ],
      "text/plain": [
       "   SettlementPoint         sum       mean         std\n",
       "0        HB_BUSAVG  1031499.84  29.420988   90.945900\n",
       "1       HB_HOUSTON  1090246.10  31.096580   91.178486\n",
       "2        HB_HUBAVG  1034715.09  29.512695   90.954232\n",
       "3         HB_NORTH  1020585.30  29.109678   91.006554\n",
       "4           HB_PAN   232515.84  35.882074  191.254209\n",
       "5         HB_SOUTH  1048214.34  29.897728   90.732483\n",
       "6          HB_WEST   979855.81  27.947969   91.089477\n",
       "7           LZ_AEN  1038648.20  29.624877   90.947911\n",
       "8           LZ_CPS  1081407.65  30.844485   91.155379\n",
       "9       LZ_HOUSTON  1105449.67  31.530224   91.354908\n",
       "10         LZ_LCRA  1045161.69  29.810659   91.143627\n",
       "11        LZ_NORTH  1038554.76  29.622212   91.227942\n",
       "12        LZ_RAYBN  1051662.51  29.996078   92.235500\n",
       "13        LZ_SOUTH  1140862.89  32.540299   91.299008\n",
       "14         LZ_WEST  1144664.97  32.648744   92.452851"
      ]
     },
     "execution_count": 13,
     "metadata": {},
     "output_type": "execute_result"
    }
   ],
   "source": [
    "average_priced"
   ]
  },
  {
   "cell_type": "code",
   "execution_count": 14,
   "metadata": {},
   "outputs": [],
   "source": [
    "average_prices = ERCO.groupby(ERCO['SettlementPoint']).agg({'Price': 'mean'}).reset_index()"
   ]
  },
  {
   "cell_type": "code",
   "execution_count": 15,
   "metadata": {},
   "outputs": [
    {
     "data": {
      "text/html": [
       "<div>\n",
       "<style scoped>\n",
       "    .dataframe tbody tr th:only-of-type {\n",
       "        vertical-align: middle;\n",
       "    }\n",
       "\n",
       "    .dataframe tbody tr th {\n",
       "        vertical-align: top;\n",
       "    }\n",
       "\n",
       "    .dataframe thead th {\n",
       "        text-align: right;\n",
       "    }\n",
       "</style>\n",
       "<table border=\"1\" class=\"dataframe\">\n",
       "  <thead>\n",
       "    <tr style=\"text-align: right;\">\n",
       "      <th></th>\n",
       "      <th>SettlementPoint</th>\n",
       "      <th>Price</th>\n",
       "    </tr>\n",
       "  </thead>\n",
       "  <tbody>\n",
       "    <tr>\n",
       "      <th>0</th>\n",
       "      <td>HB_BUSAVG</td>\n",
       "      <td>29.420988</td>\n",
       "    </tr>\n",
       "    <tr>\n",
       "      <th>1</th>\n",
       "      <td>HB_HOUSTON</td>\n",
       "      <td>31.096580</td>\n",
       "    </tr>\n",
       "    <tr>\n",
       "      <th>2</th>\n",
       "      <td>HB_HUBAVG</td>\n",
       "      <td>29.512695</td>\n",
       "    </tr>\n",
       "    <tr>\n",
       "      <th>3</th>\n",
       "      <td>HB_NORTH</td>\n",
       "      <td>29.109678</td>\n",
       "    </tr>\n",
       "    <tr>\n",
       "      <th>4</th>\n",
       "      <td>HB_PAN</td>\n",
       "      <td>35.882074</td>\n",
       "    </tr>\n",
       "    <tr>\n",
       "      <th>5</th>\n",
       "      <td>HB_SOUTH</td>\n",
       "      <td>29.897728</td>\n",
       "    </tr>\n",
       "    <tr>\n",
       "      <th>6</th>\n",
       "      <td>HB_WEST</td>\n",
       "      <td>27.947969</td>\n",
       "    </tr>\n",
       "    <tr>\n",
       "      <th>7</th>\n",
       "      <td>LZ_AEN</td>\n",
       "      <td>29.624877</td>\n",
       "    </tr>\n",
       "    <tr>\n",
       "      <th>8</th>\n",
       "      <td>LZ_CPS</td>\n",
       "      <td>30.844485</td>\n",
       "    </tr>\n",
       "    <tr>\n",
       "      <th>9</th>\n",
       "      <td>LZ_HOUSTON</td>\n",
       "      <td>31.530224</td>\n",
       "    </tr>\n",
       "    <tr>\n",
       "      <th>10</th>\n",
       "      <td>LZ_LCRA</td>\n",
       "      <td>29.810659</td>\n",
       "    </tr>\n",
       "    <tr>\n",
       "      <th>11</th>\n",
       "      <td>LZ_NORTH</td>\n",
       "      <td>29.622212</td>\n",
       "    </tr>\n",
       "    <tr>\n",
       "      <th>12</th>\n",
       "      <td>LZ_RAYBN</td>\n",
       "      <td>29.996078</td>\n",
       "    </tr>\n",
       "    <tr>\n",
       "      <th>13</th>\n",
       "      <td>LZ_SOUTH</td>\n",
       "      <td>32.540299</td>\n",
       "    </tr>\n",
       "    <tr>\n",
       "      <th>14</th>\n",
       "      <td>LZ_WEST</td>\n",
       "      <td>32.648744</td>\n",
       "    </tr>\n",
       "  </tbody>\n",
       "</table>\n",
       "</div>"
      ],
      "text/plain": [
       "   SettlementPoint      Price\n",
       "0        HB_BUSAVG  29.420988\n",
       "1       HB_HOUSTON  31.096580\n",
       "2        HB_HUBAVG  29.512695\n",
       "3         HB_NORTH  29.109678\n",
       "4           HB_PAN  35.882074\n",
       "5         HB_SOUTH  29.897728\n",
       "6          HB_WEST  27.947969\n",
       "7           LZ_AEN  29.624877\n",
       "8           LZ_CPS  30.844485\n",
       "9       LZ_HOUSTON  31.530224\n",
       "10         LZ_LCRA  29.810659\n",
       "11        LZ_NORTH  29.622212\n",
       "12        LZ_RAYBN  29.996078\n",
       "13        LZ_SOUTH  32.540299\n",
       "14         LZ_WEST  32.648744"
      ]
     },
     "execution_count": 15,
     "metadata": {},
     "output_type": "execute_result"
    }
   ],
   "source": [
    "average_prices"
   ]
  },
  {
   "cell_type": "code",
   "execution_count": 7,
   "metadata": {},
   "outputs": [],
   "source": [
    "# ipl_data = {'Team': ['Riders', 'Riders', 'Devils', 'Devils', 'Kings',\n",
    "#    'kings', 'Kings', 'Kings', 'Riders', 'Royals', 'Royals', 'Riders'],\n",
    "#    'Rank': [1, 2, 2, 3, 3,4 ,1 ,1,2 , 4,1,2],\n",
    "#    'Year': [2014,2015,2014,2015,2014,2015,2016,2017,2016,2014,2015,2017],\n",
    "#    'Points':[876,789,863,673,741,812,756,788,694,701,804,690]}\n",
    "# df = pd.DataFrame(ipl_data)\n",
    "\n",
    "# grouped = df.groupby('Year')"
   ]
  },
  {
   "cell_type": "markdown",
   "metadata": {},
   "source": [
    "Computing average prices for dates"
   ]
  },
  {
   "cell_type": "code",
   "execution_count": 16,
   "metadata": {},
   "outputs": [
    {
     "data": {
      "text/html": [
       "<div>\n",
       "<style scoped>\n",
       "    .dataframe tbody tr th:only-of-type {\n",
       "        vertical-align: middle;\n",
       "    }\n",
       "\n",
       "    .dataframe tbody tr th {\n",
       "        vertical-align: top;\n",
       "    }\n",
       "\n",
       "    .dataframe thead th {\n",
       "        text-align: right;\n",
       "    }\n",
       "</style>\n",
       "<table border=\"1\" class=\"dataframe\">\n",
       "  <thead>\n",
       "    <tr style=\"text-align: right;\">\n",
       "      <th></th>\n",
       "      <th>Date</th>\n",
       "      <th>Price</th>\n",
       "    </tr>\n",
       "  </thead>\n",
       "  <tbody>\n",
       "    <tr>\n",
       "      <th>0</th>\n",
       "      <td>2016-01-01 00:00:00</td>\n",
       "      <td>18.412857</td>\n",
       "    </tr>\n",
       "    <tr>\n",
       "      <th>1</th>\n",
       "      <td>2016-01-01 01:00:00</td>\n",
       "      <td>16.140000</td>\n",
       "    </tr>\n",
       "    <tr>\n",
       "      <th>2</th>\n",
       "      <td>2016-01-01 02:00:00</td>\n",
       "      <td>15.600000</td>\n",
       "    </tr>\n",
       "    <tr>\n",
       "      <th>3</th>\n",
       "      <td>2016-01-01 03:00:00</td>\n",
       "      <td>15.607857</td>\n",
       "    </tr>\n",
       "    <tr>\n",
       "      <th>4</th>\n",
       "      <td>2016-01-01 04:00:00</td>\n",
       "      <td>15.930714</td>\n",
       "    </tr>\n",
       "    <tr>\n",
       "      <th>...</th>\n",
       "      <td>...</td>\n",
       "      <td>...</td>\n",
       "    </tr>\n",
       "    <tr>\n",
       "      <th>35055</th>\n",
       "      <td>2019-12-31 19:00:00</td>\n",
       "      <td>19.853333</td>\n",
       "    </tr>\n",
       "    <tr>\n",
       "      <th>35056</th>\n",
       "      <td>2019-12-31 20:00:00</td>\n",
       "      <td>18.463333</td>\n",
       "    </tr>\n",
       "    <tr>\n",
       "      <th>35057</th>\n",
       "      <td>2019-12-31 21:00:00</td>\n",
       "      <td>16.544000</td>\n",
       "    </tr>\n",
       "    <tr>\n",
       "      <th>35058</th>\n",
       "      <td>2019-12-31 22:00:00</td>\n",
       "      <td>15.572667</td>\n",
       "    </tr>\n",
       "    <tr>\n",
       "      <th>35059</th>\n",
       "      <td>2019-12-31 23:00:00</td>\n",
       "      <td>14.668000</td>\n",
       "    </tr>\n",
       "  </tbody>\n",
       "</table>\n",
       "<p>35060 rows × 2 columns</p>\n",
       "</div>"
      ],
      "text/plain": [
       "                      Date      Price\n",
       "0      2016-01-01 00:00:00  18.412857\n",
       "1      2016-01-01 01:00:00  16.140000\n",
       "2      2016-01-01 02:00:00  15.600000\n",
       "3      2016-01-01 03:00:00  15.607857\n",
       "4      2016-01-01 04:00:00  15.930714\n",
       "...                    ...        ...\n",
       "35055  2019-12-31 19:00:00  19.853333\n",
       "35056  2019-12-31 20:00:00  18.463333\n",
       "35057  2019-12-31 21:00:00  16.544000\n",
       "35058  2019-12-31 22:00:00  15.572667\n",
       "35059  2019-12-31 23:00:00  14.668000\n",
       "\n",
       "[35060 rows x 2 columns]"
      ]
     },
     "execution_count": 16,
     "metadata": {},
     "output_type": "execute_result"
    }
   ],
   "source": [
    "average_prices = ERCO.groupby('Date')['Price'].mean().reset_index()\n",
    "average_prices.to_csv('DateMeann.csv')\n",
    "pd.DataFrame(average_prices)"
   ]
  },
  {
   "cell_type": "markdown",
   "metadata": {},
   "source": [
    "# TASK 3"
   ]
  },
  {
   "cell_type": "markdown",
   "metadata": {},
   "source": [
    "The following tasks were completed with by running 3 different sets of lines of code to complete this task. "
   ]
  },
  {
   "cell_type": "code",
   "execution_count": null,
   "metadata": {},
   "outputs": [],
   "source": []
  },
  {
   "cell_type": "code",
   "execution_count": 18,
   "metadata": {},
   "outputs": [
    {
     "data": {
      "text/html": [
       "<div>\n",
       "<style scoped>\n",
       "    .dataframe tbody tr th:only-of-type {\n",
       "        vertical-align: middle;\n",
       "    }\n",
       "\n",
       "    .dataframe tbody tr th {\n",
       "        vertical-align: top;\n",
       "    }\n",
       "\n",
       "    .dataframe thead th {\n",
       "        text-align: right;\n",
       "    }\n",
       "</style>\n",
       "<table border=\"1\" class=\"dataframe\">\n",
       "  <thead>\n",
       "    <tr style=\"text-align: right;\">\n",
       "      <th></th>\n",
       "      <th>Date</th>\n",
       "      <th>SettlementPoint</th>\n",
       "      <th>Price</th>\n",
       "      <th>year</th>\n",
       "      <th>month</th>\n",
       "    </tr>\n",
       "  </thead>\n",
       "  <tbody>\n",
       "    <tr>\n",
       "      <th>0</th>\n",
       "      <td>2016-01-01</td>\n",
       "      <td>HB_BUSAVG</td>\n",
       "      <td>18.42</td>\n",
       "      <td>2016</td>\n",
       "      <td>1</td>\n",
       "    </tr>\n",
       "    <tr>\n",
       "      <th>1</th>\n",
       "      <td>2016-01-01</td>\n",
       "      <td>HB_HOUSTON</td>\n",
       "      <td>18.42</td>\n",
       "      <td>2016</td>\n",
       "      <td>1</td>\n",
       "    </tr>\n",
       "    <tr>\n",
       "      <th>2</th>\n",
       "      <td>2016-01-01</td>\n",
       "      <td>HB_HUBAVG</td>\n",
       "      <td>18.42</td>\n",
       "      <td>2016</td>\n",
       "      <td>1</td>\n",
       "    </tr>\n",
       "    <tr>\n",
       "      <th>3</th>\n",
       "      <td>2016-01-01</td>\n",
       "      <td>HB_NORTH</td>\n",
       "      <td>18.43</td>\n",
       "      <td>2016</td>\n",
       "      <td>1</td>\n",
       "    </tr>\n",
       "    <tr>\n",
       "      <th>4</th>\n",
       "      <td>2016-01-01</td>\n",
       "      <td>HB_SOUTH</td>\n",
       "      <td>18.38</td>\n",
       "      <td>2016</td>\n",
       "      <td>1</td>\n",
       "    </tr>\n",
       "  </tbody>\n",
       "</table>\n",
       "</div>"
      ],
      "text/plain": [
       "        Date SettlementPoint  Price  year  month\n",
       "0 2016-01-01       HB_BUSAVG  18.42  2016      1\n",
       "1 2016-01-01      HB_HOUSTON  18.42  2016      1\n",
       "2 2016-01-01       HB_HUBAVG  18.42  2016      1\n",
       "3 2016-01-01        HB_NORTH  18.43  2016      1\n",
       "4 2016-01-01        HB_SOUTH  18.38  2016      1"
      ]
     },
     "execution_count": 18,
     "metadata": {},
     "output_type": "execute_result"
    }
   ],
   "source": [
    "ERCO['Date'] = pd.to_datetime(ERCO['Date'])\n",
    "ERCO['year'] = pd.DatetimeIndex(ERCO['Date']).year\n",
    "ERCO['month'] = pd.DatetimeIndex(ERCO['Date']).month\n",
    "ERCO.head()"
   ]
  },
  {
   "cell_type": "code",
   "execution_count": 19,
   "metadata": {
    "scrolled": true
   },
   "outputs": [],
   "source": [
    "AveragePriceByMonth = ERCO.groupby(['SettlementPoint', 'year', 'month'])['Price'].mean().reset_index()"
   ]
  },
  {
   "cell_type": "code",
   "execution_count": null,
   "metadata": {
    "scrolled": true
   },
   "outputs": [],
   "source": [
    "AveragePriceByMonth"
   ]
  },
  {
   "cell_type": "code",
   "execution_count": null,
   "metadata": {},
   "outputs": [],
   "source": [
    "AveragePriceByMonth = ERCO.groupby(['SettlementPoint', 'year', 'month'])['Price'].agg([np.mean]).reset_index()\n",
    "AveragePriceByMonth.rename(columns={'Price': 'AveragePrice'}, inplace=False)\n",
    "AveragePriceByMonth.head()"
   ]
  },
  {
   "cell_type": "code",
   "execution_count": 20,
   "metadata": {},
   "outputs": [
    {
     "data": {
      "text/html": [
       "<div>\n",
       "<style scoped>\n",
       "    .dataframe tbody tr th:only-of-type {\n",
       "        vertical-align: middle;\n",
       "    }\n",
       "\n",
       "    .dataframe tbody tr th {\n",
       "        vertical-align: top;\n",
       "    }\n",
       "\n",
       "    .dataframe thead th {\n",
       "        text-align: right;\n",
       "    }\n",
       "</style>\n",
       "<table border=\"1\" class=\"dataframe\">\n",
       "  <thead>\n",
       "    <tr style=\"text-align: right;\">\n",
       "      <th></th>\n",
       "      <th>SettlementPoint</th>\n",
       "      <th>year</th>\n",
       "      <th>month</th>\n",
       "      <th>Price</th>\n",
       "    </tr>\n",
       "  </thead>\n",
       "  <tbody>\n",
       "    <tr>\n",
       "      <th>0</th>\n",
       "      <td>HB_BUSAVG</td>\n",
       "      <td>2016</td>\n",
       "      <td>1</td>\n",
       "      <td>19.209301</td>\n",
       "    </tr>\n",
       "    <tr>\n",
       "      <th>1</th>\n",
       "      <td>HB_BUSAVG</td>\n",
       "      <td>2016</td>\n",
       "      <td>2</td>\n",
       "      <td>15.288247</td>\n",
       "    </tr>\n",
       "    <tr>\n",
       "      <th>2</th>\n",
       "      <td>HB_BUSAVG</td>\n",
       "      <td>2016</td>\n",
       "      <td>3</td>\n",
       "      <td>16.755626</td>\n",
       "    </tr>\n",
       "    <tr>\n",
       "      <th>3</th>\n",
       "      <td>HB_BUSAVG</td>\n",
       "      <td>2016</td>\n",
       "      <td>4</td>\n",
       "      <td>18.289347</td>\n",
       "    </tr>\n",
       "    <tr>\n",
       "      <th>4</th>\n",
       "      <td>HB_BUSAVG</td>\n",
       "      <td>2016</td>\n",
       "      <td>5</td>\n",
       "      <td>18.159583</td>\n",
       "    </tr>\n",
       "  </tbody>\n",
       "</table>\n",
       "</div>"
      ],
      "text/plain": [
       "  SettlementPoint  year  month      Price\n",
       "0       HB_BUSAVG  2016      1  19.209301\n",
       "1       HB_BUSAVG  2016      2  15.288247\n",
       "2       HB_BUSAVG  2016      3  16.755626\n",
       "3       HB_BUSAVG  2016      4  18.289347\n",
       "4       HB_BUSAVG  2016      5  18.159583"
      ]
     },
     "execution_count": 20,
     "metadata": {},
     "output_type": "execute_result"
    }
   ],
   "source": [
    "AveragePriceByMonth = ERCO.groupby(['SettlementPoint', 'year', 'month']).agg({'Price': 'mean'}).reset_index()\n",
    "AveragePriceByMonth.rename(columns={'Price': 'AveragePrice'}, inplace=False)\n",
    "AveragePriceByMonth.head()"
   ]
  },
  {
   "cell_type": "code",
   "execution_count": null,
   "metadata": {},
   "outputs": [],
   "source": [
    "# save AveragePriceByMonth as csv file\n",
    "\n",
    "AveragePriceByMonth.to_csv('AveragePriceByMonth.csv', index=False)"
   ]
  },
  {
   "cell_type": "markdown",
   "metadata": {},
   "source": [
    "# Price Volatility"
   ]
  },
  {
   "cell_type": "markdown",
   "metadata": {},
   "source": [
    "# Task 4"
   ]
  },
  {
   "cell_type": "code",
   "execution_count": null,
   "metadata": {},
   "outputs": [],
   "source": [
    "ERCOT.head()"
   ]
  },
  {
   "cell_type": "code",
   "execution_count": 22,
   "metadata": {},
   "outputs": [],
   "source": [
    "# filter out prices less than zero and load zones\n",
    "\n",
    "filtered = ERCO[(ERCO['Price'] != 0) & (ERCO['Price'] > 0) & (ERCO['SettlementPoint'].str.contains('HB_'))]"
   ]
  },
  {
   "cell_type": "code",
   "execution_count": null,
   "metadata": {},
   "outputs": [],
   "source": [
    "filtered.head()"
   ]
  },
  {
   "cell_type": "code",
   "execution_count": 23,
   "metadata": {},
   "outputs": [],
   "source": [
    "filters = ERCO[ERCO['Price']>0]"
   ]
  },
  {
   "cell_type": "code",
   "execution_count": 24,
   "metadata": {},
   "outputs": [
    {
     "data": {
      "text/html": [
       "<div>\n",
       "<style scoped>\n",
       "    .dataframe tbody tr th:only-of-type {\n",
       "        vertical-align: middle;\n",
       "    }\n",
       "\n",
       "    .dataframe tbody tr th {\n",
       "        vertical-align: top;\n",
       "    }\n",
       "\n",
       "    .dataframe thead th {\n",
       "        text-align: right;\n",
       "    }\n",
       "</style>\n",
       "<table border=\"1\" class=\"dataframe\">\n",
       "  <thead>\n",
       "    <tr style=\"text-align: right;\">\n",
       "      <th></th>\n",
       "      <th>Date</th>\n",
       "      <th>SettlementPoint</th>\n",
       "      <th>Price</th>\n",
       "      <th>year</th>\n",
       "      <th>month</th>\n",
       "    </tr>\n",
       "  </thead>\n",
       "  <tbody>\n",
       "    <tr>\n",
       "      <th>0</th>\n",
       "      <td>2016-01-01 00:00:00</td>\n",
       "      <td>HB_BUSAVG</td>\n",
       "      <td>18.42</td>\n",
       "      <td>2016</td>\n",
       "      <td>1</td>\n",
       "    </tr>\n",
       "    <tr>\n",
       "      <th>1</th>\n",
       "      <td>2016-01-01 00:00:00</td>\n",
       "      <td>HB_HOUSTON</td>\n",
       "      <td>18.42</td>\n",
       "      <td>2016</td>\n",
       "      <td>1</td>\n",
       "    </tr>\n",
       "    <tr>\n",
       "      <th>2</th>\n",
       "      <td>2016-01-01 00:00:00</td>\n",
       "      <td>HB_HUBAVG</td>\n",
       "      <td>18.42</td>\n",
       "      <td>2016</td>\n",
       "      <td>1</td>\n",
       "    </tr>\n",
       "    <tr>\n",
       "      <th>3</th>\n",
       "      <td>2016-01-01 00:00:00</td>\n",
       "      <td>HB_NORTH</td>\n",
       "      <td>18.43</td>\n",
       "      <td>2016</td>\n",
       "      <td>1</td>\n",
       "    </tr>\n",
       "    <tr>\n",
       "      <th>4</th>\n",
       "      <td>2016-01-01 00:00:00</td>\n",
       "      <td>HB_SOUTH</td>\n",
       "      <td>18.38</td>\n",
       "      <td>2016</td>\n",
       "      <td>1</td>\n",
       "    </tr>\n",
       "    <tr>\n",
       "      <th>...</th>\n",
       "      <td>...</td>\n",
       "      <td>...</td>\n",
       "      <td>...</td>\n",
       "      <td>...</td>\n",
       "      <td>...</td>\n",
       "    </tr>\n",
       "    <tr>\n",
       "      <th>129101</th>\n",
       "      <td>2019-12-31 23:00:00</td>\n",
       "      <td>LZ_LCRA</td>\n",
       "      <td>14.53</td>\n",
       "      <td>2019</td>\n",
       "      <td>12</td>\n",
       "    </tr>\n",
       "    <tr>\n",
       "      <th>129102</th>\n",
       "      <td>2019-12-31 23:00:00</td>\n",
       "      <td>LZ_NORTH</td>\n",
       "      <td>14.48</td>\n",
       "      <td>2019</td>\n",
       "      <td>12</td>\n",
       "    </tr>\n",
       "    <tr>\n",
       "      <th>129103</th>\n",
       "      <td>2019-12-31 23:00:00</td>\n",
       "      <td>LZ_RAYBN</td>\n",
       "      <td>14.48</td>\n",
       "      <td>2019</td>\n",
       "      <td>12</td>\n",
       "    </tr>\n",
       "    <tr>\n",
       "      <th>129104</th>\n",
       "      <td>2019-12-31 23:00:00</td>\n",
       "      <td>LZ_SOUTH</td>\n",
       "      <td>14.70</td>\n",
       "      <td>2019</td>\n",
       "      <td>12</td>\n",
       "    </tr>\n",
       "    <tr>\n",
       "      <th>129105</th>\n",
       "      <td>2019-12-31 23:00:00</td>\n",
       "      <td>LZ_WEST</td>\n",
       "      <td>16.78</td>\n",
       "      <td>2019</td>\n",
       "      <td>12</td>\n",
       "    </tr>\n",
       "  </tbody>\n",
       "</table>\n",
       "<p>496264 rows × 5 columns</p>\n",
       "</div>"
      ],
      "text/plain": [
       "                      Date SettlementPoint  Price  year  month\n",
       "0      2016-01-01 00:00:00       HB_BUSAVG  18.42  2016      1\n",
       "1      2016-01-01 00:00:00      HB_HOUSTON  18.42  2016      1\n",
       "2      2016-01-01 00:00:00       HB_HUBAVG  18.42  2016      1\n",
       "3      2016-01-01 00:00:00        HB_NORTH  18.43  2016      1\n",
       "4      2016-01-01 00:00:00        HB_SOUTH  18.38  2016      1\n",
       "...                    ...             ...    ...   ...    ...\n",
       "129101 2019-12-31 23:00:00         LZ_LCRA  14.53  2019     12\n",
       "129102 2019-12-31 23:00:00        LZ_NORTH  14.48  2019     12\n",
       "129103 2019-12-31 23:00:00        LZ_RAYBN  14.48  2019     12\n",
       "129104 2019-12-31 23:00:00        LZ_SOUTH  14.70  2019     12\n",
       "129105 2019-12-31 23:00:00         LZ_WEST  16.78  2019     12\n",
       "\n",
       "[496264 rows x 5 columns]"
      ]
     },
     "execution_count": 24,
     "metadata": {},
     "output_type": "execute_result"
    }
   ],
   "source": [
    "filters"
   ]
  },
  {
   "cell_type": "code",
   "execution_count": 25,
   "metadata": {},
   "outputs": [
    {
     "data": {
      "text/plain": [
       "<seaborn.axisgrid.PairGrid at 0x19c44cbca00>"
      ]
     },
     "execution_count": 25,
     "metadata": {},
     "output_type": "execute_result"
    },
    {
     "data": {
      "image/png": "[encoded data removed]",
      "text/plain": [
       "<Figure size 540x540 with 12 Axes>"
      ]
     },
     "metadata": {
      "needs_background": "light"
     },
     "output_type": "display_data"
    }
   ],
   "source": [
    "sns.pairplot(ERCO)"
   ]
  },
  {
   "cell_type": "code",
   "execution_count": null,
   "metadata": {},
   "outputs": [],
   "source": []
  }
 ],
 "metadata": {
  "kernelspec": {
   "display_name": "Python 3",
   "language": "python",
   "name": "python3"
  },
  "language_info": {
   "codemirror_mode": {
    "name": "ipython",
    "version": 3
   },
   "file_extension": ".py",
   "mimetype": "text/x-python",
   "name": "python",
   "nbconvert_exporter": "python",
   "pygments_lexer": "ipython3",
   "version": "3.8.5"
  }
 },
 "nbformat": 4,
 "nbformat_minor": 4
}
